{
  "nbformat": 4,
  "nbformat_minor": 0,
  "metadata": {
    "colab": {
      "name": "GAN(2014).ipynb",
      "provenance": [],
      "machine_shape": "hm"
    },
    "kernelspec": {
      "name": "python3",
      "display_name": "Python 3"
    },
    "language_info": {
      "name": "python"
    },
    "accelerator": "GPU",
    "widgets": {
      "application/vnd.jupyter.widget-state+json": {
        "96e3382661bf444e85bb3a1178a38dbc": {
          "model_module": "@jupyter-widgets/controls",
          "model_name": "HBoxModel",
          "model_module_version": "1.5.0",
          "state": {
            "_dom_classes": [],
            "_model_module": "@jupyter-widgets/controls",
            "_model_module_version": "1.5.0",
            "_model_name": "HBoxModel",
            "_view_count": null,
            "_view_module": "@jupyter-widgets/controls",
            "_view_module_version": "1.5.0",
            "_view_name": "HBoxView",
            "box_style": "",
            "children": [
              "IPY_MODEL_27ff5d57af76431a9e001282a150588d",
              "IPY_MODEL_a6b52570034743e1832a56ecd8476254",
              "IPY_MODEL_6f5406ab2b364cd78f7bb5395c6fb269"
            ],
            "layout": "IPY_MODEL_24fc5025f8124ff2bbac41e89bd948a4"
          }
        },
        "27ff5d57af76431a9e001282a150588d": {
          "model_module": "@jupyter-widgets/controls",
          "model_name": "HTMLModel",
          "model_module_version": "1.5.0",
          "state": {
            "_dom_classes": [],
            "_model_module": "@jupyter-widgets/controls",
            "_model_module_version": "1.5.0",
            "_model_name": "HTMLModel",
            "_view_count": null,
            "_view_module": "@jupyter-widgets/controls",
            "_view_module_version": "1.5.0",
            "_view_name": "HTMLView",
            "description": "",
            "description_tooltip": null,
            "layout": "IPY_MODEL_a34f20bd1f5549f5a03478e86b6e8e0e",
            "placeholder": "​",
            "style": "IPY_MODEL_7c7553daca064b8f9b4df66dd4b90eba",
            "value": "100%"
          }
        },
        "a6b52570034743e1832a56ecd8476254": {
          "model_module": "@jupyter-widgets/controls",
          "model_name": "FloatProgressModel",
          "model_module_version": "1.5.0",
          "state": {
            "_dom_classes": [],
            "_model_module": "@jupyter-widgets/controls",
            "_model_module_version": "1.5.0",
            "_model_name": "FloatProgressModel",
            "_view_count": null,
            "_view_module": "@jupyter-widgets/controls",
            "_view_module_version": "1.5.0",
            "_view_name": "ProgressView",
            "bar_style": "success",
            "description": "",
            "description_tooltip": null,
            "layout": "IPY_MODEL_3e451b9c4aaa4b8bb951eb3ece67bf38",
            "max": 9912422,
            "min": 0,
            "orientation": "horizontal",
            "style": "IPY_MODEL_8c3969e1d3a4467ba995e003addf39c5",
            "value": 9912422
          }
        },
        "6f5406ab2b364cd78f7bb5395c6fb269": {
          "model_module": "@jupyter-widgets/controls",
          "model_name": "HTMLModel",
          "model_module_version": "1.5.0",
          "state": {
            "_dom_classes": [],
            "_model_module": "@jupyter-widgets/controls",
            "_model_module_version": "1.5.0",
            "_model_name": "HTMLModel",
            "_view_count": null,
            "_view_module": "@jupyter-widgets/controls",
            "_view_module_version": "1.5.0",
            "_view_name": "HTMLView",
            "description": "",
            "description_tooltip": null,
            "layout": "IPY_MODEL_700982ede2004254b7934814b3afdab1",
            "placeholder": "​",
            "style": "IPY_MODEL_00fac3fa9c4b4d589eecc3e53b2a8425",
            "value": " 9912422/9912422 [00:00&lt;00:00, 36007544.80it/s]"
          }
        },
        "24fc5025f8124ff2bbac41e89bd948a4": {
          "model_module": "@jupyter-widgets/base",
          "model_name": "LayoutModel",
          "model_module_version": "1.2.0",
          "state": {
            "_model_module": "@jupyter-widgets/base",
            "_model_module_version": "1.2.0",
            "_model_name": "LayoutModel",
            "_view_count": null,
            "_view_module": "@jupyter-widgets/base",
            "_view_module_version": "1.2.0",
            "_view_name": "LayoutView",
            "align_content": null,
            "align_items": null,
            "align_self": null,
            "border": null,
            "bottom": null,
            "display": null,
            "flex": null,
            "flex_flow": null,
            "grid_area": null,
            "grid_auto_columns": null,
            "grid_auto_flow": null,
            "grid_auto_rows": null,
            "grid_column": null,
            "grid_gap": null,
            "grid_row": null,
            "grid_template_areas": null,
            "grid_template_columns": null,
            "grid_template_rows": null,
            "height": null,
            "justify_content": null,
            "justify_items": null,
            "left": null,
            "margin": null,
            "max_height": null,
            "max_width": null,
            "min_height": null,
            "min_width": null,
            "object_fit": null,
            "object_position": null,
            "order": null,
            "overflow": null,
            "overflow_x": null,
            "overflow_y": null,
            "padding": null,
            "right": null,
            "top": null,
            "visibility": null,
            "width": null
          }
        },
        "a34f20bd1f5549f5a03478e86b6e8e0e": {
          "model_module": "@jupyter-widgets/base",
          "model_name": "LayoutModel",
          "model_module_version": "1.2.0",
          "state": {
            "_model_module": "@jupyter-widgets/base",
            "_model_module_version": "1.2.0",
            "_model_name": "LayoutModel",
            "_view_count": null,
            "_view_module": "@jupyter-widgets/base",
            "_view_module_version": "1.2.0",
            "_view_name": "LayoutView",
            "align_content": null,
            "align_items": null,
            "align_self": null,
            "border": null,
            "bottom": null,
            "display": null,
            "flex": null,
            "flex_flow": null,
            "grid_area": null,
            "grid_auto_columns": null,
            "grid_auto_flow": null,
            "grid_auto_rows": null,
            "grid_column": null,
            "grid_gap": null,
            "grid_row": null,
            "grid_template_areas": null,
            "grid_template_columns": null,
            "grid_template_rows": null,
            "height": null,
            "justify_content": null,
            "justify_items": null,
            "left": null,
            "margin": null,
            "max_height": null,
            "max_width": null,
            "min_height": null,
            "min_width": null,
            "object_fit": null,
            "object_position": null,
            "order": null,
            "overflow": null,
            "overflow_x": null,
            "overflow_y": null,
            "padding": null,
            "right": null,
            "top": null,
            "visibility": null,
            "width": null
          }
        },
        "7c7553daca064b8f9b4df66dd4b90eba": {
          "model_module": "@jupyter-widgets/controls",
          "model_name": "DescriptionStyleModel",
          "model_module_version": "1.5.0",
          "state": {
            "_model_module": "@jupyter-widgets/controls",
            "_model_module_version": "1.5.0",
            "_model_name": "DescriptionStyleModel",
            "_view_count": null,
            "_view_module": "@jupyter-widgets/base",
            "_view_module_version": "1.2.0",
            "_view_name": "StyleView",
            "description_width": ""
          }
        },
        "3e451b9c4aaa4b8bb951eb3ece67bf38": {
          "model_module": "@jupyter-widgets/base",
          "model_name": "LayoutModel",
          "model_module_version": "1.2.0",
          "state": {
            "_model_module": "@jupyter-widgets/base",
            "_model_module_version": "1.2.0",
            "_model_name": "LayoutModel",
            "_view_count": null,
            "_view_module": "@jupyter-widgets/base",
            "_view_module_version": "1.2.0",
            "_view_name": "LayoutView",
            "align_content": null,
            "align_items": null,
            "align_self": null,
            "border": null,
            "bottom": null,
            "display": null,
            "flex": null,
            "flex_flow": null,
            "grid_area": null,
            "grid_auto_columns": null,
            "grid_auto_flow": null,
            "grid_auto_rows": null,
            "grid_column": null,
            "grid_gap": null,
            "grid_row": null,
            "grid_template_areas": null,
            "grid_template_columns": null,
            "grid_template_rows": null,
            "height": null,
            "justify_content": null,
            "justify_items": null,
            "left": null,
            "margin": null,
            "max_height": null,
            "max_width": null,
            "min_height": null,
            "min_width": null,
            "object_fit": null,
            "object_position": null,
            "order": null,
            "overflow": null,
            "overflow_x": null,
            "overflow_y": null,
            "padding": null,
            "right": null,
            "top": null,
            "visibility": null,
            "width": null
          }
        },
        "8c3969e1d3a4467ba995e003addf39c5": {
          "model_module": "@jupyter-widgets/controls",
          "model_name": "ProgressStyleModel",
          "model_module_version": "1.5.0",
          "state": {
            "_model_module": "@jupyter-widgets/controls",
            "_model_module_version": "1.5.0",
            "_model_name": "ProgressStyleModel",
            "_view_count": null,
            "_view_module": "@jupyter-widgets/base",
            "_view_module_version": "1.2.0",
            "_view_name": "StyleView",
            "bar_color": null,
            "description_width": ""
          }
        },
        "700982ede2004254b7934814b3afdab1": {
          "model_module": "@jupyter-widgets/base",
          "model_name": "LayoutModel",
          "model_module_version": "1.2.0",
          "state": {
            "_model_module": "@jupyter-widgets/base",
            "_model_module_version": "1.2.0",
            "_model_name": "LayoutModel",
            "_view_count": null,
            "_view_module": "@jupyter-widgets/base",
            "_view_module_version": "1.2.0",
            "_view_name": "LayoutView",
            "align_content": null,
            "align_items": null,
            "align_self": null,
            "border": null,
            "bottom": null,
            "display": null,
            "flex": null,
            "flex_flow": null,
            "grid_area": null,
            "grid_auto_columns": null,
            "grid_auto_flow": null,
            "grid_auto_rows": null,
            "grid_column": null,
            "grid_gap": null,
            "grid_row": null,
            "grid_template_areas": null,
            "grid_template_columns": null,
            "grid_template_rows": null,
            "height": null,
            "justify_content": null,
            "justify_items": null,
            "left": null,
            "margin": null,
            "max_height": null,
            "max_width": null,
            "min_height": null,
            "min_width": null,
            "object_fit": null,
            "object_position": null,
            "order": null,
            "overflow": null,
            "overflow_x": null,
            "overflow_y": null,
            "padding": null,
            "right": null,
            "top": null,
            "visibility": null,
            "width": null
          }
        },
        "00fac3fa9c4b4d589eecc3e53b2a8425": {
          "model_module": "@jupyter-widgets/controls",
          "model_name": "DescriptionStyleModel",
          "model_module_version": "1.5.0",
          "state": {
            "_model_module": "@jupyter-widgets/controls",
            "_model_module_version": "1.5.0",
            "_model_name": "DescriptionStyleModel",
            "_view_count": null,
            "_view_module": "@jupyter-widgets/base",
            "_view_module_version": "1.2.0",
            "_view_name": "StyleView",
            "description_width": ""
          }
        },
        "d6c7f0aa9a7a451c82846811847eeddd": {
          "model_module": "@jupyter-widgets/controls",
          "model_name": "HBoxModel",
          "model_module_version": "1.5.0",
          "state": {
            "_dom_classes": [],
            "_model_module": "@jupyter-widgets/controls",
            "_model_module_version": "1.5.0",
            "_model_name": "HBoxModel",
            "_view_count": null,
            "_view_module": "@jupyter-widgets/controls",
            "_view_module_version": "1.5.0",
            "_view_name": "HBoxView",
            "box_style": "",
            "children": [
              "IPY_MODEL_5c7d7b615716464aa6e576c29b9312a8",
              "IPY_MODEL_74a3eb8d093340a890567611ef9b780d",
              "IPY_MODEL_f0516a71526c461aaabfebd50ac1a114"
            ],
            "layout": "IPY_MODEL_403f3a0ee5594a9c857a5916802c3fbd"
          }
        },
        "5c7d7b615716464aa6e576c29b9312a8": {
          "model_module": "@jupyter-widgets/controls",
          "model_name": "HTMLModel",
          "model_module_version": "1.5.0",
          "state": {
            "_dom_classes": [],
            "_model_module": "@jupyter-widgets/controls",
            "_model_module_version": "1.5.0",
            "_model_name": "HTMLModel",
            "_view_count": null,
            "_view_module": "@jupyter-widgets/controls",
            "_view_module_version": "1.5.0",
            "_view_name": "HTMLView",
            "description": "",
            "description_tooltip": null,
            "layout": "IPY_MODEL_b0666c8842304694af287fc4168b70e2",
            "placeholder": "​",
            "style": "IPY_MODEL_977189bc20574db0bfa03b70768a46ae",
            "value": "100%"
          }
        },
        "74a3eb8d093340a890567611ef9b780d": {
          "model_module": "@jupyter-widgets/controls",
          "model_name": "FloatProgressModel",
          "model_module_version": "1.5.0",
          "state": {
            "_dom_classes": [],
            "_model_module": "@jupyter-widgets/controls",
            "_model_module_version": "1.5.0",
            "_model_name": "FloatProgressModel",
            "_view_count": null,
            "_view_module": "@jupyter-widgets/controls",
            "_view_module_version": "1.5.0",
            "_view_name": "ProgressView",
            "bar_style": "success",
            "description": "",
            "description_tooltip": null,
            "layout": "IPY_MODEL_91ff38ade4884b09bb5cf2c144cb4896",
            "max": 28881,
            "min": 0,
            "orientation": "horizontal",
            "style": "IPY_MODEL_47a9401565ae42dbad7177f65f8842ca",
            "value": 28881
          }
        },
        "f0516a71526c461aaabfebd50ac1a114": {
          "model_module": "@jupyter-widgets/controls",
          "model_name": "HTMLModel",
          "model_module_version": "1.5.0",
          "state": {
            "_dom_classes": [],
            "_model_module": "@jupyter-widgets/controls",
            "_model_module_version": "1.5.0",
            "_model_name": "HTMLModel",
            "_view_count": null,
            "_view_module": "@jupyter-widgets/controls",
            "_view_module_version": "1.5.0",
            "_view_name": "HTMLView",
            "description": "",
            "description_tooltip": null,
            "layout": "IPY_MODEL_75022e1d35204cce8b2e2e30d151ac26",
            "placeholder": "​",
            "style": "IPY_MODEL_28df8d0ef08c4c6c9fda288f96691124",
            "value": " 28881/28881 [00:00&lt;00:00, 1542520.71it/s]"
          }
        },
        "403f3a0ee5594a9c857a5916802c3fbd": {
          "model_module": "@jupyter-widgets/base",
          "model_name": "LayoutModel",
          "model_module_version": "1.2.0",
          "state": {
            "_model_module": "@jupyter-widgets/base",
            "_model_module_version": "1.2.0",
            "_model_name": "LayoutModel",
            "_view_count": null,
            "_view_module": "@jupyter-widgets/base",
            "_view_module_version": "1.2.0",
            "_view_name": "LayoutView",
            "align_content": null,
            "align_items": null,
            "align_self": null,
            "border": null,
            "bottom": null,
            "display": null,
            "flex": null,
            "flex_flow": null,
            "grid_area": null,
            "grid_auto_columns": null,
            "grid_auto_flow": null,
            "grid_auto_rows": null,
            "grid_column": null,
            "grid_gap": null,
            "grid_row": null,
            "grid_template_areas": null,
            "grid_template_columns": null,
            "grid_template_rows": null,
            "height": null,
            "justify_content": null,
            "justify_items": null,
            "left": null,
            "margin": null,
            "max_height": null,
            "max_width": null,
            "min_height": null,
            "min_width": null,
            "object_fit": null,
            "object_position": null,
            "order": null,
            "overflow": null,
            "overflow_x": null,
            "overflow_y": null,
            "padding": null,
            "right": null,
            "top": null,
            "visibility": null,
            "width": null
          }
        },
        "b0666c8842304694af287fc4168b70e2": {
          "model_module": "@jupyter-widgets/base",
          "model_name": "LayoutModel",
          "model_module_version": "1.2.0",
          "state": {
            "_model_module": "@jupyter-widgets/base",
            "_model_module_version": "1.2.0",
            "_model_name": "LayoutModel",
            "_view_count": null,
            "_view_module": "@jupyter-widgets/base",
            "_view_module_version": "1.2.0",
            "_view_name": "LayoutView",
            "align_content": null,
            "align_items": null,
            "align_self": null,
            "border": null,
            "bottom": null,
            "display": null,
            "flex": null,
            "flex_flow": null,
            "grid_area": null,
            "grid_auto_columns": null,
            "grid_auto_flow": null,
            "grid_auto_rows": null,
            "grid_column": null,
            "grid_gap": null,
            "grid_row": null,
            "grid_template_areas": null,
            "grid_template_columns": null,
            "grid_template_rows": null,
            "height": null,
            "justify_content": null,
            "justify_items": null,
            "left": null,
            "margin": null,
            "max_height": null,
            "max_width": null,
            "min_height": null,
            "min_width": null,
            "object_fit": null,
            "object_position": null,
            "order": null,
            "overflow": null,
            "overflow_x": null,
            "overflow_y": null,
            "padding": null,
            "right": null,
            "top": null,
            "visibility": null,
            "width": null
          }
        },
        "977189bc20574db0bfa03b70768a46ae": {
          "model_module": "@jupyter-widgets/controls",
          "model_name": "DescriptionStyleModel",
          "model_module_version": "1.5.0",
          "state": {
            "_model_module": "@jupyter-widgets/controls",
            "_model_module_version": "1.5.0",
            "_model_name": "DescriptionStyleModel",
            "_view_count": null,
            "_view_module": "@jupyter-widgets/base",
            "_view_module_version": "1.2.0",
            "_view_name": "StyleView",
            "description_width": ""
          }
        },
        "91ff38ade4884b09bb5cf2c144cb4896": {
          "model_module": "@jupyter-widgets/base",
          "model_name": "LayoutModel",
          "model_module_version": "1.2.0",
          "state": {
            "_model_module": "@jupyter-widgets/base",
            "_model_module_version": "1.2.0",
            "_model_name": "LayoutModel",
            "_view_count": null,
            "_view_module": "@jupyter-widgets/base",
            "_view_module_version": "1.2.0",
            "_view_name": "LayoutView",
            "align_content": null,
            "align_items": null,
            "align_self": null,
            "border": null,
            "bottom": null,
            "display": null,
            "flex": null,
            "flex_flow": null,
            "grid_area": null,
            "grid_auto_columns": null,
            "grid_auto_flow": null,
            "grid_auto_rows": null,
            "grid_column": null,
            "grid_gap": null,
            "grid_row": null,
            "grid_template_areas": null,
            "grid_template_columns": null,
            "grid_template_rows": null,
            "height": null,
            "justify_content": null,
            "justify_items": null,
            "left": null,
            "margin": null,
            "max_height": null,
            "max_width": null,
            "min_height": null,
            "min_width": null,
            "object_fit": null,
            "object_position": null,
            "order": null,
            "overflow": null,
            "overflow_x": null,
            "overflow_y": null,
            "padding": null,
            "right": null,
            "top": null,
            "visibility": null,
            "width": null
          }
        },
        "47a9401565ae42dbad7177f65f8842ca": {
          "model_module": "@jupyter-widgets/controls",
          "model_name": "ProgressStyleModel",
          "model_module_version": "1.5.0",
          "state": {
            "_model_module": "@jupyter-widgets/controls",
            "_model_module_version": "1.5.0",
            "_model_name": "ProgressStyleModel",
            "_view_count": null,
            "_view_module": "@jupyter-widgets/base",
            "_view_module_version": "1.2.0",
            "_view_name": "StyleView",
            "bar_color": null,
            "description_width": ""
          }
        },
        "75022e1d35204cce8b2e2e30d151ac26": {
          "model_module": "@jupyter-widgets/base",
          "model_name": "LayoutModel",
          "model_module_version": "1.2.0",
          "state": {
            "_model_module": "@jupyter-widgets/base",
            "_model_module_version": "1.2.0",
            "_model_name": "LayoutModel",
            "_view_count": null,
            "_view_module": "@jupyter-widgets/base",
            "_view_module_version": "1.2.0",
            "_view_name": "LayoutView",
            "align_content": null,
            "align_items": null,
            "align_self": null,
            "border": null,
            "bottom": null,
            "display": null,
            "flex": null,
            "flex_flow": null,
            "grid_area": null,
            "grid_auto_columns": null,
            "grid_auto_flow": null,
            "grid_auto_rows": null,
            "grid_column": null,
            "grid_gap": null,
            "grid_row": null,
            "grid_template_areas": null,
            "grid_template_columns": null,
            "grid_template_rows": null,
            "height": null,
            "justify_content": null,
            "justify_items": null,
            "left": null,
            "margin": null,
            "max_height": null,
            "max_width": null,
            "min_height": null,
            "min_width": null,
            "object_fit": null,
            "object_position": null,
            "order": null,
            "overflow": null,
            "overflow_x": null,
            "overflow_y": null,
            "padding": null,
            "right": null,
            "top": null,
            "visibility": null,
            "width": null
          }
        },
        "28df8d0ef08c4c6c9fda288f96691124": {
          "model_module": "@jupyter-widgets/controls",
          "model_name": "DescriptionStyleModel",
          "model_module_version": "1.5.0",
          "state": {
            "_model_module": "@jupyter-widgets/controls",
            "_model_module_version": "1.5.0",
            "_model_name": "DescriptionStyleModel",
            "_view_count": null,
            "_view_module": "@jupyter-widgets/base",
            "_view_module_version": "1.2.0",
            "_view_name": "StyleView",
            "description_width": ""
          }
        },
        "222806ab4a5f4149bbedd82df345bc91": {
          "model_module": "@jupyter-widgets/controls",
          "model_name": "HBoxModel",
          "model_module_version": "1.5.0",
          "state": {
            "_dom_classes": [],
            "_model_module": "@jupyter-widgets/controls",
            "_model_module_version": "1.5.0",
            "_model_name": "HBoxModel",
            "_view_count": null,
            "_view_module": "@jupyter-widgets/controls",
            "_view_module_version": "1.5.0",
            "_view_name": "HBoxView",
            "box_style": "",
            "children": [
              "IPY_MODEL_e7c80dc8ec1e4e629ccd1ca6e51a42fb",
              "IPY_MODEL_eb3dd03dfad84aeda559c31966b944d5",
              "IPY_MODEL_9601d448036b447d962f00299fef75b3"
            ],
            "layout": "IPY_MODEL_6e17164195f64d0da4f8886b3ab15d4e"
          }
        },
        "e7c80dc8ec1e4e629ccd1ca6e51a42fb": {
          "model_module": "@jupyter-widgets/controls",
          "model_name": "HTMLModel",
          "model_module_version": "1.5.0",
          "state": {
            "_dom_classes": [],
            "_model_module": "@jupyter-widgets/controls",
            "_model_module_version": "1.5.0",
            "_model_name": "HTMLModel",
            "_view_count": null,
            "_view_module": "@jupyter-widgets/controls",
            "_view_module_version": "1.5.0",
            "_view_name": "HTMLView",
            "description": "",
            "description_tooltip": null,
            "layout": "IPY_MODEL_8a7111f9cbd64d2a94af85124ae9fd5d",
            "placeholder": "​",
            "style": "IPY_MODEL_5f7449efa7684775a0bfa1fb722176e2",
            "value": "100%"
          }
        },
        "eb3dd03dfad84aeda559c31966b944d5": {
          "model_module": "@jupyter-widgets/controls",
          "model_name": "FloatProgressModel",
          "model_module_version": "1.5.0",
          "state": {
            "_dom_classes": [],
            "_model_module": "@jupyter-widgets/controls",
            "_model_module_version": "1.5.0",
            "_model_name": "FloatProgressModel",
            "_view_count": null,
            "_view_module": "@jupyter-widgets/controls",
            "_view_module_version": "1.5.0",
            "_view_name": "ProgressView",
            "bar_style": "success",
            "description": "",
            "description_tooltip": null,
            "layout": "IPY_MODEL_ec0931a9441a423c813c3ce8b5bce947",
            "max": 1648877,
            "min": 0,
            "orientation": "horizontal",
            "style": "IPY_MODEL_99383cd460ba409fac67c25b3a899f43",
            "value": 1648877
          }
        },
        "9601d448036b447d962f00299fef75b3": {
          "model_module": "@jupyter-widgets/controls",
          "model_name": "HTMLModel",
          "model_module_version": "1.5.0",
          "state": {
            "_dom_classes": [],
            "_model_module": "@jupyter-widgets/controls",
            "_model_module_version": "1.5.0",
            "_model_name": "HTMLModel",
            "_view_count": null,
            "_view_module": "@jupyter-widgets/controls",
            "_view_module_version": "1.5.0",
            "_view_name": "HTMLView",
            "description": "",
            "description_tooltip": null,
            "layout": "IPY_MODEL_38ca7e48ab5743769149c67cac887628",
            "placeholder": "​",
            "style": "IPY_MODEL_f1ae5cd904d6462bb37c27d1575d1c66",
            "value": " 1648877/1648877 [00:00&lt;00:00, 19341525.91it/s]"
          }
        },
        "6e17164195f64d0da4f8886b3ab15d4e": {
          "model_module": "@jupyter-widgets/base",
          "model_name": "LayoutModel",
          "model_module_version": "1.2.0",
          "state": {
            "_model_module": "@jupyter-widgets/base",
            "_model_module_version": "1.2.0",
            "_model_name": "LayoutModel",
            "_view_count": null,
            "_view_module": "@jupyter-widgets/base",
            "_view_module_version": "1.2.0",
            "_view_name": "LayoutView",
            "align_content": null,
            "align_items": null,
            "align_self": null,
            "border": null,
            "bottom": null,
            "display": null,
            "flex": null,
            "flex_flow": null,
            "grid_area": null,
            "grid_auto_columns": null,
            "grid_auto_flow": null,
            "grid_auto_rows": null,
            "grid_column": null,
            "grid_gap": null,
            "grid_row": null,
            "grid_template_areas": null,
            "grid_template_columns": null,
            "grid_template_rows": null,
            "height": null,
            "justify_content": null,
            "justify_items": null,
            "left": null,
            "margin": null,
            "max_height": null,
            "max_width": null,
            "min_height": null,
            "min_width": null,
            "object_fit": null,
            "object_position": null,
            "order": null,
            "overflow": null,
            "overflow_x": null,
            "overflow_y": null,
            "padding": null,
            "right": null,
            "top": null,
            "visibility": null,
            "width": null
          }
        },
        "8a7111f9cbd64d2a94af85124ae9fd5d": {
          "model_module": "@jupyter-widgets/base",
          "model_name": "LayoutModel",
          "model_module_version": "1.2.0",
          "state": {
            "_model_module": "@jupyter-widgets/base",
            "_model_module_version": "1.2.0",
            "_model_name": "LayoutModel",
            "_view_count": null,
            "_view_module": "@jupyter-widgets/base",
            "_view_module_version": "1.2.0",
            "_view_name": "LayoutView",
            "align_content": null,
            "align_items": null,
            "align_self": null,
            "border": null,
            "bottom": null,
            "display": null,
            "flex": null,
            "flex_flow": null,
            "grid_area": null,
            "grid_auto_columns": null,
            "grid_auto_flow": null,
            "grid_auto_rows": null,
            "grid_column": null,
            "grid_gap": null,
            "grid_row": null,
            "grid_template_areas": null,
            "grid_template_columns": null,
            "grid_template_rows": null,
            "height": null,
            "justify_content": null,
            "justify_items": null,
            "left": null,
            "margin": null,
            "max_height": null,
            "max_width": null,
            "min_height": null,
            "min_width": null,
            "object_fit": null,
            "object_position": null,
            "order": null,
            "overflow": null,
            "overflow_x": null,
            "overflow_y": null,
            "padding": null,
            "right": null,
            "top": null,
            "visibility": null,
            "width": null
          }
        },
        "5f7449efa7684775a0bfa1fb722176e2": {
          "model_module": "@jupyter-widgets/controls",
          "model_name": "DescriptionStyleModel",
          "model_module_version": "1.5.0",
          "state": {
            "_model_module": "@jupyter-widgets/controls",
            "_model_module_version": "1.5.0",
            "_model_name": "DescriptionStyleModel",
            "_view_count": null,
            "_view_module": "@jupyter-widgets/base",
            "_view_module_version": "1.2.0",
            "_view_name": "StyleView",
            "description_width": ""
          }
        },
        "ec0931a9441a423c813c3ce8b5bce947": {
          "model_module": "@jupyter-widgets/base",
          "model_name": "LayoutModel",
          "model_module_version": "1.2.0",
          "state": {
            "_model_module": "@jupyter-widgets/base",
            "_model_module_version": "1.2.0",
            "_model_name": "LayoutModel",
            "_view_count": null,
            "_view_module": "@jupyter-widgets/base",
            "_view_module_version": "1.2.0",
            "_view_name": "LayoutView",
            "align_content": null,
            "align_items": null,
            "align_self": null,
            "border": null,
            "bottom": null,
            "display": null,
            "flex": null,
            "flex_flow": null,
            "grid_area": null,
            "grid_auto_columns": null,
            "grid_auto_flow": null,
            "grid_auto_rows": null,
            "grid_column": null,
            "grid_gap": null,
            "grid_row": null,
            "grid_template_areas": null,
            "grid_template_columns": null,
            "grid_template_rows": null,
            "height": null,
            "justify_content": null,
            "justify_items": null,
            "left": null,
            "margin": null,
            "max_height": null,
            "max_width": null,
            "min_height": null,
            "min_width": null,
            "object_fit": null,
            "object_position": null,
            "order": null,
            "overflow": null,
            "overflow_x": null,
            "overflow_y": null,
            "padding": null,
            "right": null,
            "top": null,
            "visibility": null,
            "width": null
          }
        },
        "99383cd460ba409fac67c25b3a899f43": {
          "model_module": "@jupyter-widgets/controls",
          "model_name": "ProgressStyleModel",
          "model_module_version": "1.5.0",
          "state": {
            "_model_module": "@jupyter-widgets/controls",
            "_model_module_version": "1.5.0",
            "_model_name": "ProgressStyleModel",
            "_view_count": null,
            "_view_module": "@jupyter-widgets/base",
            "_view_module_version": "1.2.0",
            "_view_name": "StyleView",
            "bar_color": null,
            "description_width": ""
          }
        },
        "38ca7e48ab5743769149c67cac887628": {
          "model_module": "@jupyter-widgets/base",
          "model_name": "LayoutModel",
          "model_module_version": "1.2.0",
          "state": {
            "_model_module": "@jupyter-widgets/base",
            "_model_module_version": "1.2.0",
            "_model_name": "LayoutModel",
            "_view_count": null,
            "_view_module": "@jupyter-widgets/base",
            "_view_module_version": "1.2.0",
            "_view_name": "LayoutView",
            "align_content": null,
            "align_items": null,
            "align_self": null,
            "border": null,
            "bottom": null,
            "display": null,
            "flex": null,
            "flex_flow": null,
            "grid_area": null,
            "grid_auto_columns": null,
            "grid_auto_flow": null,
            "grid_auto_rows": null,
            "grid_column": null,
            "grid_gap": null,
            "grid_row": null,
            "grid_template_areas": null,
            "grid_template_columns": null,
            "grid_template_rows": null,
            "height": null,
            "justify_content": null,
            "justify_items": null,
            "left": null,
            "margin": null,
            "max_height": null,
            "max_width": null,
            "min_height": null,
            "min_width": null,
            "object_fit": null,
            "object_position": null,
            "order": null,
            "overflow": null,
            "overflow_x": null,
            "overflow_y": null,
            "padding": null,
            "right": null,
            "top": null,
            "visibility": null,
            "width": null
          }
        },
        "f1ae5cd904d6462bb37c27d1575d1c66": {
          "model_module": "@jupyter-widgets/controls",
          "model_name": "DescriptionStyleModel",
          "model_module_version": "1.5.0",
          "state": {
            "_model_module": "@jupyter-widgets/controls",
            "_model_module_version": "1.5.0",
            "_model_name": "DescriptionStyleModel",
            "_view_count": null,
            "_view_module": "@jupyter-widgets/base",
            "_view_module_version": "1.2.0",
            "_view_name": "StyleView",
            "description_width": ""
          }
        },
        "4dc6566915f64ed9956332d063d53a0f": {
          "model_module": "@jupyter-widgets/controls",
          "model_name": "HBoxModel",
          "model_module_version": "1.5.0",
          "state": {
            "_dom_classes": [],
            "_model_module": "@jupyter-widgets/controls",
            "_model_module_version": "1.5.0",
            "_model_name": "HBoxModel",
            "_view_count": null,
            "_view_module": "@jupyter-widgets/controls",
            "_view_module_version": "1.5.0",
            "_view_name": "HBoxView",
            "box_style": "",
            "children": [
              "IPY_MODEL_b752a2a83a71472cbffdd1e0520cccb5",
              "IPY_MODEL_0b3fe9c325e3494a91540f823d089a47",
              "IPY_MODEL_a9191935d7104873b3980091c33b0453"
            ],
            "layout": "IPY_MODEL_79b7af6036d545aab6156a99689de1a8"
          }
        },
        "b752a2a83a71472cbffdd1e0520cccb5": {
          "model_module": "@jupyter-widgets/controls",
          "model_name": "HTMLModel",
          "model_module_version": "1.5.0",
          "state": {
            "_dom_classes": [],
            "_model_module": "@jupyter-widgets/controls",
            "_model_module_version": "1.5.0",
            "_model_name": "HTMLModel",
            "_view_count": null,
            "_view_module": "@jupyter-widgets/controls",
            "_view_module_version": "1.5.0",
            "_view_name": "HTMLView",
            "description": "",
            "description_tooltip": null,
            "layout": "IPY_MODEL_bc2eddd85de44dd99d9704903fed4a50",
            "placeholder": "​",
            "style": "IPY_MODEL_2e94832af0404fa6a58d43fad9371882",
            "value": "100%"
          }
        },
        "0b3fe9c325e3494a91540f823d089a47": {
          "model_module": "@jupyter-widgets/controls",
          "model_name": "FloatProgressModel",
          "model_module_version": "1.5.0",
          "state": {
            "_dom_classes": [],
            "_model_module": "@jupyter-widgets/controls",
            "_model_module_version": "1.5.0",
            "_model_name": "FloatProgressModel",
            "_view_count": null,
            "_view_module": "@jupyter-widgets/controls",
            "_view_module_version": "1.5.0",
            "_view_name": "ProgressView",
            "bar_style": "success",
            "description": "",
            "description_tooltip": null,
            "layout": "IPY_MODEL_e8a25a9c83304e1b9a8165e4ac62f225",
            "max": 4542,
            "min": 0,
            "orientation": "horizontal",
            "style": "IPY_MODEL_33c3d5e6abe2469a815d2588fb796954",
            "value": 4542
          }
        },
        "a9191935d7104873b3980091c33b0453": {
          "model_module": "@jupyter-widgets/controls",
          "model_name": "HTMLModel",
          "model_module_version": "1.5.0",
          "state": {
            "_dom_classes": [],
            "_model_module": "@jupyter-widgets/controls",
            "_model_module_version": "1.5.0",
            "_model_name": "HTMLModel",
            "_view_count": null,
            "_view_module": "@jupyter-widgets/controls",
            "_view_module_version": "1.5.0",
            "_view_name": "HTMLView",
            "description": "",
            "description_tooltip": null,
            "layout": "IPY_MODEL_502f91f8c30c498d9e937c62e228fb40",
            "placeholder": "​",
            "style": "IPY_MODEL_fdc0bd913e43451ab4d5279fc3617922",
            "value": " 4542/4542 [00:00&lt;00:00, 245860.86it/s]"
          }
        },
        "79b7af6036d545aab6156a99689de1a8": {
          "model_module": "@jupyter-widgets/base",
          "model_name": "LayoutModel",
          "model_module_version": "1.2.0",
          "state": {
            "_model_module": "@jupyter-widgets/base",
            "_model_module_version": "1.2.0",
            "_model_name": "LayoutModel",
            "_view_count": null,
            "_view_module": "@jupyter-widgets/base",
            "_view_module_version": "1.2.0",
            "_view_name": "LayoutView",
            "align_content": null,
            "align_items": null,
            "align_self": null,
            "border": null,
            "bottom": null,
            "display": null,
            "flex": null,
            "flex_flow": null,
            "grid_area": null,
            "grid_auto_columns": null,
            "grid_auto_flow": null,
            "grid_auto_rows": null,
            "grid_column": null,
            "grid_gap": null,
            "grid_row": null,
            "grid_template_areas": null,
            "grid_template_columns": null,
            "grid_template_rows": null,
            "height": null,
            "justify_content": null,
            "justify_items": null,
            "left": null,
            "margin": null,
            "max_height": null,
            "max_width": null,
            "min_height": null,
            "min_width": null,
            "object_fit": null,
            "object_position": null,
            "order": null,
            "overflow": null,
            "overflow_x": null,
            "overflow_y": null,
            "padding": null,
            "right": null,
            "top": null,
            "visibility": null,
            "width": null
          }
        },
        "bc2eddd85de44dd99d9704903fed4a50": {
          "model_module": "@jupyter-widgets/base",
          "model_name": "LayoutModel",
          "model_module_version": "1.2.0",
          "state": {
            "_model_module": "@jupyter-widgets/base",
            "_model_module_version": "1.2.0",
            "_model_name": "LayoutModel",
            "_view_count": null,
            "_view_module": "@jupyter-widgets/base",
            "_view_module_version": "1.2.0",
            "_view_name": "LayoutView",
            "align_content": null,
            "align_items": null,
            "align_self": null,
            "border": null,
            "bottom": null,
            "display": null,
            "flex": null,
            "flex_flow": null,
            "grid_area": null,
            "grid_auto_columns": null,
            "grid_auto_flow": null,
            "grid_auto_rows": null,
            "grid_column": null,
            "grid_gap": null,
            "grid_row": null,
            "grid_template_areas": null,
            "grid_template_columns": null,
            "grid_template_rows": null,
            "height": null,
            "justify_content": null,
            "justify_items": null,
            "left": null,
            "margin": null,
            "max_height": null,
            "max_width": null,
            "min_height": null,
            "min_width": null,
            "object_fit": null,
            "object_position": null,
            "order": null,
            "overflow": null,
            "overflow_x": null,
            "overflow_y": null,
            "padding": null,
            "right": null,
            "top": null,
            "visibility": null,
            "width": null
          }
        },
        "2e94832af0404fa6a58d43fad9371882": {
          "model_module": "@jupyter-widgets/controls",
          "model_name": "DescriptionStyleModel",
          "model_module_version": "1.5.0",
          "state": {
            "_model_module": "@jupyter-widgets/controls",
            "_model_module_version": "1.5.0",
            "_model_name": "DescriptionStyleModel",
            "_view_count": null,
            "_view_module": "@jupyter-widgets/base",
            "_view_module_version": "1.2.0",
            "_view_name": "StyleView",
            "description_width": ""
          }
        },
        "e8a25a9c83304e1b9a8165e4ac62f225": {
          "model_module": "@jupyter-widgets/base",
          "model_name": "LayoutModel",
          "model_module_version": "1.2.0",
          "state": {
            "_model_module": "@jupyter-widgets/base",
            "_model_module_version": "1.2.0",
            "_model_name": "LayoutModel",
            "_view_count": null,
            "_view_module": "@jupyter-widgets/base",
            "_view_module_version": "1.2.0",
            "_view_name": "LayoutView",
            "align_content": null,
            "align_items": null,
            "align_self": null,
            "border": null,
            "bottom": null,
            "display": null,
            "flex": null,
            "flex_flow": null,
            "grid_area": null,
            "grid_auto_columns": null,
            "grid_auto_flow": null,
            "grid_auto_rows": null,
            "grid_column": null,
            "grid_gap": null,
            "grid_row": null,
            "grid_template_areas": null,
            "grid_template_columns": null,
            "grid_template_rows": null,
            "height": null,
            "justify_content": null,
            "justify_items": null,
            "left": null,
            "margin": null,
            "max_height": null,
            "max_width": null,
            "min_height": null,
            "min_width": null,
            "object_fit": null,
            "object_position": null,
            "order": null,
            "overflow": null,
            "overflow_x": null,
            "overflow_y": null,
            "padding": null,
            "right": null,
            "top": null,
            "visibility": null,
            "width": null
          }
        },
        "33c3d5e6abe2469a815d2588fb796954": {
          "model_module": "@jupyter-widgets/controls",
          "model_name": "ProgressStyleModel",
          "model_module_version": "1.5.0",
          "state": {
            "_model_module": "@jupyter-widgets/controls",
            "_model_module_version": "1.5.0",
            "_model_name": "ProgressStyleModel",
            "_view_count": null,
            "_view_module": "@jupyter-widgets/base",
            "_view_module_version": "1.2.0",
            "_view_name": "StyleView",
            "bar_color": null,
            "description_width": ""
          }
        },
        "502f91f8c30c498d9e937c62e228fb40": {
          "model_module": "@jupyter-widgets/base",
          "model_name": "LayoutModel",
          "model_module_version": "1.2.0",
          "state": {
            "_model_module": "@jupyter-widgets/base",
            "_model_module_version": "1.2.0",
            "_model_name": "LayoutModel",
            "_view_count": null,
            "_view_module": "@jupyter-widgets/base",
            "_view_module_version": "1.2.0",
            "_view_name": "LayoutView",
            "align_content": null,
            "align_items": null,
            "align_self": null,
            "border": null,
            "bottom": null,
            "display": null,
            "flex": null,
            "flex_flow": null,
            "grid_area": null,
            "grid_auto_columns": null,
            "grid_auto_flow": null,
            "grid_auto_rows": null,
            "grid_column": null,
            "grid_gap": null,
            "grid_row": null,
            "grid_template_areas": null,
            "grid_template_columns": null,
            "grid_template_rows": null,
            "height": null,
            "justify_content": null,
            "justify_items": null,
            "left": null,
            "margin": null,
            "max_height": null,
            "max_width": null,
            "min_height": null,
            "min_width": null,
            "object_fit": null,
            "object_position": null,
            "order": null,
            "overflow": null,
            "overflow_x": null,
            "overflow_y": null,
            "padding": null,
            "right": null,
            "top": null,
            "visibility": null,
            "width": null
          }
        },
        "fdc0bd913e43451ab4d5279fc3617922": {
          "model_module": "@jupyter-widgets/controls",
          "model_name": "DescriptionStyleModel",
          "model_module_version": "1.5.0",
          "state": {
            "_model_module": "@jupyter-widgets/controls",
            "_model_module_version": "1.5.0",
            "_model_name": "DescriptionStyleModel",
            "_view_count": null,
            "_view_module": "@jupyter-widgets/base",
            "_view_module_version": "1.2.0",
            "_view_name": "StyleView",
            "description_width": ""
          }
        }
      }
    }
  },
  "cells": [
    {
      "cell_type": "code",
      "metadata": {
        "id": "QFaVqwFDCB-B"
      },
      "source": [
        "import torch\n",
        "import torch.nn as nn\n",
        "import torch.nn.functional as F\n",
        "\n",
        "from torchvision import datasets\n",
        "import torchvision.transforms as transforms\n",
        "from torch.utils.data import DataLoader\n",
        "from torchvision.transforms.functional import to_pil_image\n",
        "import matplotlib.pylab as plt\n",
        "%matplotlib inline\n",
        "\n",
        "import os\n",
        "import numpy as np\n",
        "import time\n",
        "\n",
        "device = torch.device('cuda' if torch.cuda.is_available() else 'cpu')"
      ],
      "execution_count": 1,
      "outputs": []
    },
    {
      "cell_type": "markdown",
      "metadata": {
        "id": "d77l7D7EC4i7"
      },
      "source": [
        "# 1. 데이터셋 불러오기"
      ]
    },
    {
      "cell_type": "code",
      "metadata": {
        "id": "bntTCkWpCe_r"
      },
      "source": [
        "# 데이터 경로 지정\n",
        "path2data = './data'\n",
        "os.makedirs(path2data, exist_ok=True) # 폴더 생성"
      ],
      "execution_count": 2,
      "outputs": []
    },
    {
      "cell_type": "code",
      "metadata": {
        "id": "Bw66vqNSEZNW",
        "outputId": "ac17cf13-0495-44a0-9479-5ddf62180c39",
        "colab": {
          "base_uri": "https://localhost:8080/",
          "height": 440,
          "referenced_widgets": [
            "96e3382661bf444e85bb3a1178a38dbc",
            "27ff5d57af76431a9e001282a150588d",
            "a6b52570034743e1832a56ecd8476254",
            "6f5406ab2b364cd78f7bb5395c6fb269",
            "24fc5025f8124ff2bbac41e89bd948a4",
            "a34f20bd1f5549f5a03478e86b6e8e0e",
            "7c7553daca064b8f9b4df66dd4b90eba",
            "3e451b9c4aaa4b8bb951eb3ece67bf38",
            "8c3969e1d3a4467ba995e003addf39c5",
            "700982ede2004254b7934814b3afdab1",
            "00fac3fa9c4b4d589eecc3e53b2a8425",
            "d6c7f0aa9a7a451c82846811847eeddd",
            "5c7d7b615716464aa6e576c29b9312a8",
            "74a3eb8d093340a890567611ef9b780d",
            "f0516a71526c461aaabfebd50ac1a114",
            "403f3a0ee5594a9c857a5916802c3fbd",
            "b0666c8842304694af287fc4168b70e2",
            "977189bc20574db0bfa03b70768a46ae",
            "91ff38ade4884b09bb5cf2c144cb4896",
            "47a9401565ae42dbad7177f65f8842ca",
            "75022e1d35204cce8b2e2e30d151ac26",
            "28df8d0ef08c4c6c9fda288f96691124",
            "222806ab4a5f4149bbedd82df345bc91",
            "e7c80dc8ec1e4e629ccd1ca6e51a42fb",
            "eb3dd03dfad84aeda559c31966b944d5",
            "9601d448036b447d962f00299fef75b3",
            "6e17164195f64d0da4f8886b3ab15d4e",
            "8a7111f9cbd64d2a94af85124ae9fd5d",
            "5f7449efa7684775a0bfa1fb722176e2",
            "ec0931a9441a423c813c3ce8b5bce947",
            "99383cd460ba409fac67c25b3a899f43",
            "38ca7e48ab5743769149c67cac887628",
            "f1ae5cd904d6462bb37c27d1575d1c66",
            "4dc6566915f64ed9956332d063d53a0f",
            "b752a2a83a71472cbffdd1e0520cccb5",
            "0b3fe9c325e3494a91540f823d089a47",
            "a9191935d7104873b3980091c33b0453",
            "79b7af6036d545aab6156a99689de1a8",
            "bc2eddd85de44dd99d9704903fed4a50",
            "2e94832af0404fa6a58d43fad9371882",
            "e8a25a9c83304e1b9a8165e4ac62f225",
            "33c3d5e6abe2469a815d2588fb796954",
            "502f91f8c30c498d9e937c62e228fb40",
            "fdc0bd913e43451ab4d5279fc3617922"
          ]
        }
      },
      "source": [
        "# MNIST dataset 불러오기\n",
        "train_ds = datasets.MNIST(path2data, train=True, transform=transforms.Compose([transforms.ToTensor(),transforms.Normalize([0.5],[0.5])]), download=True)"
      ],
      "execution_count": 3,
      "outputs": [
        {
          "output_type": "stream",
          "name": "stdout",
          "text": [
            "Downloading http://yann.lecun.com/exdb/mnist/train-images-idx3-ubyte.gz\n",
            "Downloading http://yann.lecun.com/exdb/mnist/train-images-idx3-ubyte.gz to ./data/MNIST/raw/train-images-idx3-ubyte.gz\n"
          ]
        },
        {
          "output_type": "display_data",
          "data": {
            "text/plain": [
              "  0%|          | 0/9912422 [00:00<?, ?it/s]"
            ],
            "application/vnd.jupyter.widget-view+json": {
              "version_major": 2,
              "version_minor": 0,
              "model_id": "96e3382661bf444e85bb3a1178a38dbc"
            }
          },
          "metadata": {}
        },
        {
          "output_type": "stream",
          "name": "stdout",
          "text": [
            "Extracting ./data/MNIST/raw/train-images-idx3-ubyte.gz to ./data/MNIST/raw\n",
            "\n",
            "Downloading http://yann.lecun.com/exdb/mnist/train-labels-idx1-ubyte.gz\n",
            "Downloading http://yann.lecun.com/exdb/mnist/train-labels-idx1-ubyte.gz to ./data/MNIST/raw/train-labels-idx1-ubyte.gz\n"
          ]
        },
        {
          "output_type": "display_data",
          "data": {
            "text/plain": [
              "  0%|          | 0/28881 [00:00<?, ?it/s]"
            ],
            "application/vnd.jupyter.widget-view+json": {
              "version_major": 2,
              "version_minor": 0,
              "model_id": "d6c7f0aa9a7a451c82846811847eeddd"
            }
          },
          "metadata": {}
        },
        {
          "output_type": "stream",
          "name": "stdout",
          "text": [
            "Extracting ./data/MNIST/raw/train-labels-idx1-ubyte.gz to ./data/MNIST/raw\n",
            "\n",
            "Downloading http://yann.lecun.com/exdb/mnist/t10k-images-idx3-ubyte.gz\n",
            "Downloading http://yann.lecun.com/exdb/mnist/t10k-images-idx3-ubyte.gz to ./data/MNIST/raw/t10k-images-idx3-ubyte.gz\n"
          ]
        },
        {
          "output_type": "display_data",
          "data": {
            "text/plain": [
              "  0%|          | 0/1648877 [00:00<?, ?it/s]"
            ],
            "application/vnd.jupyter.widget-view+json": {
              "version_major": 2,
              "version_minor": 0,
              "model_id": "222806ab4a5f4149bbedd82df345bc91"
            }
          },
          "metadata": {}
        },
        {
          "output_type": "stream",
          "name": "stdout",
          "text": [
            "Extracting ./data/MNIST/raw/t10k-images-idx3-ubyte.gz to ./data/MNIST/raw\n",
            "\n",
            "Downloading http://yann.lecun.com/exdb/mnist/t10k-labels-idx1-ubyte.gz\n",
            "Downloading http://yann.lecun.com/exdb/mnist/t10k-labels-idx1-ubyte.gz to ./data/MNIST/raw/t10k-labels-idx1-ubyte.gz\n"
          ]
        },
        {
          "output_type": "display_data",
          "data": {
            "text/plain": [
              "  0%|          | 0/4542 [00:00<?, ?it/s]"
            ],
            "application/vnd.jupyter.widget-view+json": {
              "version_major": 2,
              "version_minor": 0,
              "model_id": "4dc6566915f64ed9956332d063d53a0f"
            }
          },
          "metadata": {}
        },
        {
          "output_type": "stream",
          "name": "stdout",
          "text": [
            "Extracting ./data/MNIST/raw/t10k-labels-idx1-ubyte.gz to ./data/MNIST/raw\n",
            "\n"
          ]
        }
      ]
    },
    {
      "cell_type": "code",
      "metadata": {
        "colab": {
          "base_uri": "https://localhost:8080/",
          "height": 283
        },
        "id": "sVRHwXtbEyfw",
        "outputId": "867b2405-10b0-4b1e-eda9-8d0d1261d44c"
      },
      "source": [
        "# 샘플 이미지 확인\n",
        "img, label = train_ds[0]\n",
        "plt.imshow(to_pil_image(0.5*img+0.5),cmap='gray')"
      ],
      "execution_count": 4,
      "outputs": [
        {
          "output_type": "execute_result",
          "data": {
            "text/plain": [
              "<matplotlib.image.AxesImage at 0x7f266b269af0>"
            ]
          },
          "metadata": {},
          "execution_count": 4
        },
        {
          "output_type": "display_data",
          "data": {
            "text/plain": [
              "<Figure size 432x288 with 1 Axes>"
            ],
            "image/png": "[encoded data removed]"
          },
          "metadata": {
            "needs_background": "light"
          }
        }
      ]
    },
    {
      "cell_type": "code",
      "metadata": {
        "id": "rDXUwtGNFJSG"
      },
      "source": [
        "# 데이터 로더 생성\n",
        "train_dl = DataLoader(train_ds, batch_size=32, shuffle=True)"
      ],
      "execution_count": 5,
      "outputs": []
    },
    {
      "cell_type": "code",
      "metadata": {
        "colab": {
          "base_uri": "https://localhost:8080/"
        },
        "id": "qO02zq-BIyG9",
        "outputId": "cf38523d-b45c-447e-a988-5d2ff76c0423"
      },
      "source": [
        "# check\n",
        "for x, y in train_dl:\n",
        "    print(x.shape, y.shape)\n",
        "    break"
      ],
      "execution_count": 6,
      "outputs": [
        {
          "output_type": "stream",
          "name": "stdout",
          "text": [
            "torch.Size([32, 1, 28, 28]) torch.Size([32])\n"
          ]
        }
      ]
    },
    {
      "cell_type": "markdown",
      "metadata": {
        "id": "4uY95ka7Jfr6"
      },
      "source": [
        "# 2. 모델 구축하기"
      ]
    },
    {
      "cell_type": "code",
      "metadata": {
        "colab": {
          "base_uri": "https://localhost:8080/"
        },
        "id": "M9LUeRvII25r",
        "outputId": "41d4341d-5990-483d-bf4f-1bfaa7f4d4b4"
      },
      "source": [
        "# generator: noise를 입력받아 이미지를 생성합니다.\n",
        "class Generator(nn.Module):\n",
        "    def __init__(self, params):\n",
        "        super().__init__()\n",
        "        self.nz = params['nz'] # 입력 노이즈 벡터 수, 100\n",
        "        self.img_size = params['img_size'] # 이미지 크기, 1x28x28\n",
        "\n",
        "        self.model = nn.Sequential(\n",
        "            *self._fc_layer(self.nz, 128, normalize=False),\n",
        "            *self._fc_layer(128,256),\n",
        "            *self._fc_layer(256,512),\n",
        "            *self._fc_layer(512,1024),\n",
        "            nn.Linear(1024,int(np.prod(self.img_size))),\n",
        "            nn.Tanh()\n",
        "        )\n",
        "\n",
        "    def forward(self, z):\n",
        "        img = self.model(z)\n",
        "        img = img.view(img.size(0), *self.img_size)\n",
        "        return img\n",
        "\n",
        "    # fc layer\n",
        "    def _fc_layer(self, in_channels, out_channels, normalize=True):\n",
        "        layers = []\n",
        "        layers.append(nn.Linear(in_channels, out_channels)) # fc layer\n",
        "        if normalize:\n",
        "            layers.append(nn.BatchNorm1d(out_channels, 0.8)) # BN\n",
        "        layers.append(nn.LeakyReLU(0.2)) # LeakyReLU\n",
        "        return layers\n",
        "\n",
        "# check\n",
        "params = {'nz':100,\n",
        "          'img_size':(1,28,28)}\n",
        "x = torch.randn(16,100).to(device) # random noise\n",
        "model_gen = Generator(params).to(device)\n",
        "output = model_gen(x) # noise를 입력받아 이미지 생성\n",
        "print(output.shape)"
      ],
      "execution_count": 7,
      "outputs": [
        {
          "output_type": "stream",
          "name": "stdout",
          "text": [
            "torch.Size([16, 1, 28, 28])\n"
          ]
        }
      ]
    },
    {
      "cell_type": "code",
      "metadata": {
        "colab": {
          "base_uri": "https://localhost:8080/"
        },
        "id": "lge1B1VJMKUi",
        "outputId": "6b32bdab-b1ab-4658-fc46-b9f0b181aec9"
      },
      "source": [
        "# discriminator: 진짜 이미지와 가짜 이미지를 분류합니다.\n",
        "class Discriminator(nn.Module):\n",
        "    def __init__(self,params):\n",
        "        super().__init__()\n",
        "        self.img_size = params['img_size'] # 이미지 크기, 1x28x28\n",
        "\n",
        "        self.model = nn.Sequential(\n",
        "            nn.Linear(int(np.prod(self.img_size)), 512),\n",
        "            nn.LeakyReLU(0.2),\n",
        "            nn.Linear(512,256),\n",
        "            nn.LeakyReLU(0.2),\n",
        "            nn.Linear(256,1),\n",
        "            nn.Sigmoid()\n",
        "        )\n",
        "\n",
        "    def forward(self, x):\n",
        "        x = x.view(x.size(0),-1)\n",
        "        x = self.model(x)\n",
        "        return x\n",
        "\n",
        "# check\n",
        "x = torch.randn(16,1,28,28).to(device)\n",
        "model_dis = Discriminator(params).to(device)\n",
        "output = model_dis(x)\n",
        "print(output.shape)"
      ],
      "execution_count": 8,
      "outputs": [
        {
          "output_type": "stream",
          "name": "stdout",
          "text": [
            "torch.Size([16, 1])\n"
          ]
        }
      ]
    },
    {
      "cell_type": "code",
      "metadata": {
        "id": "hR7CZhmyqUYc"
      },
      "source": [
        "# 가중치 초기화\n",
        "def initialize_weights(model):\n",
        "    classname = model.__class__.__name__\n",
        "    # fc layer\n",
        "    if classname.find('Linear') != -1:\n",
        "        nn.init.normal_(model.weight.data, 0.0, 0.02)\n",
        "        nn.init.constant_(model.bias.data, 0)\n",
        "    # batchnorm\n",
        "    elif classname.find('BatchNorm') != -1:\n",
        "        nn.init.normal_(model.weight.data, 1.0, 0.02)\n",
        "        nn.init.constant_(model.bias.data, 0)\n",
        "\n",
        "# 가중치 초기화 적용\n",
        "model_gen.apply(initialize_weights);\n",
        "model_dis.apply(initialize_weights);"
      ],
      "execution_count": 9,
      "outputs": []
    },
    {
      "cell_type": "markdown",
      "metadata": {
        "id": "aJdMBc0wqKzw"
      },
      "source": [
        "# 3. 학습하기"
      ]
    },
    {
      "cell_type": "code",
      "metadata": {
        "id": "uykVj7nhpq7u"
      },
      "source": [
        "# 손실 함수\n",
        "loss_func = nn.BCELoss()"
      ],
      "execution_count": 10,
      "outputs": []
    },
    {
      "cell_type": "code",
      "metadata": {
        "id": "AC4r8RVHsF8c"
      },
      "source": [
        "from torch import optim\n",
        "\n",
        "# 최적화 파라미터\n",
        "lr = 2e-4\n",
        "beta1 = 0.5\n",
        "\n",
        "opt_dis = optim.Adam(model_dis.parameters(),lr=lr,betas=(beta1,0.999))\n",
        "opt_gen = optim.Adam(model_gen.parameters(),lr=lr,betas=(beta1,0.999))"
      ],
      "execution_count": 11,
      "outputs": []
    },
    {
      "cell_type": "code",
      "metadata": {
        "id": "ofBe2ekcsRgy"
      },
      "source": [
        "real_label = 1.\n",
        "fake_label = 0.\n",
        "nz = params['nz']\n",
        "num_epochs = 100\n",
        "\n",
        "loss_history={'gen':[],\n",
        "              'dis':[]}"
      ],
      "execution_count": 12,
      "outputs": []
    },
    {
      "cell_type": "code",
      "metadata": {
        "colab": {
          "base_uri": "https://localhost:8080/"
        },
        "id": "5clROy9DLqdZ",
        "outputId": "b4aa1c16-a9a0-4eea-b980-4fa54a02c7af"
      },
      "source": [
        "batch_count = 0\n",
        "start_time = time.time()\n",
        "model_dis.train()\n",
        "model_gen.train()\n",
        "\n",
        "for epoch in range(num_epochs):\n",
        "    for xb, yb in train_dl:\n",
        "        ba_si = xb.size(0)\n",
        "\n",
        "        xb = xb.to(device)\n",
        "        yb_real = torch.Tensor(ba_si,1).fill_(1.0).to(device)\n",
        "        yb_fake = torch.Tensor(ba_si,1).fill_(0.0).to(device)\n",
        "\n",
        "        # Generator\n",
        "        model_gen.zero_grad()\n",
        "        noise = torch.randn(ba_si,nz, device=device) # 노이즈 생성\n",
        "        out_gen = model_gen(noise) # 가짜 이미지 생성\n",
        "        out_dis = model_dis(out_gen) # 가짜 이미지 판별\n",
        "\n",
        "        loss_gen = loss_func(out_dis, yb_real)\n",
        "        loss_gen.backward()\n",
        "        opt_gen.step()\n",
        "\n",
        "        # Discriminator\n",
        "        model_dis.zero_grad()\n",
        "\n",
        "        out_real = model_dis(xb) # 진짜 이미지 판별\n",
        "        out_fake = model_dis(out_gen.detach()) # 가짜 이미지 판별\n",
        "        loss_real = loss_func(out_real, yb_real)\n",
        "        loss_fake = loss_func(out_fake, yb_fake)\n",
        "        loss_dis = (loss_real + loss_fake) / 2\n",
        "\n",
        "        loss_dis.backward()\n",
        "        opt_dis.step()\n",
        "\n",
        "        loss_history['gen'].append(loss_gen.item())\n",
        "        loss_history['dis'].append(loss_dis.item())\n",
        "\n",
        "        batch_count += 1\n",
        "        if batch_count % 1000 == 0:\n",
        "            print('Epoch: %.0f, G_Loss: %.6f, D_Loss: %.6f, time: %.2f min' %(epoch, loss_gen.item(), loss_dis.item(), (time.time()-start_time)/60))"
      ],
      "execution_count": 13,
      "outputs": [
        {
          "output_type": "stream",
          "name": "stdout",
          "text": [
            "Epoch: 0, G_Loss: 1.731503, D_Loss: 0.358302, time: 0.21 min\n",
            "Epoch: 1, G_Loss: 2.039751, D_Loss: 0.116006, time: 0.41 min\n",
            "Epoch: 1, G_Loss: 1.065608, D_Loss: 0.428298, time: 0.62 min\n",
            "Epoch: 2, G_Loss: 1.343656, D_Loss: 0.357870, time: 0.83 min\n",
            "Epoch: 2, G_Loss: 1.569504, D_Loss: 0.252600, time: 1.04 min\n",
            "Epoch: 3, G_Loss: 4.177446, D_Loss: 0.263802, time: 1.25 min\n",
            "Epoch: 3, G_Loss: 2.667231, D_Loss: 0.265988, time: 1.45 min\n",
            "Epoch: 4, G_Loss: 2.168123, D_Loss: 0.243601, time: 1.65 min\n",
            "Epoch: 4, G_Loss: 1.101223, D_Loss: 0.268585, time: 1.85 min\n",
            "Epoch: 5, G_Loss: 3.644933, D_Loss: 0.297234, time: 2.06 min\n",
            "Epoch: 5, G_Loss: 1.534225, D_Loss: 0.228860, time: 2.26 min\n",
            "Epoch: 6, G_Loss: 1.789957, D_Loss: 0.127192, time: 2.46 min\n",
            "Epoch: 6, G_Loss: 2.778864, D_Loss: 0.183862, time: 2.66 min\n",
            "Epoch: 7, G_Loss: 1.322055, D_Loss: 0.281438, time: 2.87 min\n",
            "Epoch: 7, G_Loss: 1.404710, D_Loss: 0.182802, time: 3.07 min\n",
            "Epoch: 8, G_Loss: 2.272473, D_Loss: 0.121166, time: 3.27 min\n",
            "Epoch: 9, G_Loss: 0.713164, D_Loss: 0.430204, time: 3.47 min\n",
            "Epoch: 9, G_Loss: 2.730574, D_Loss: 0.179058, time: 3.68 min\n",
            "Epoch: 10, G_Loss: 3.633396, D_Loss: 0.758835, time: 3.88 min\n",
            "Epoch: 10, G_Loss: 1.506851, D_Loss: 0.217897, time: 4.09 min\n",
            "Epoch: 11, G_Loss: 1.530576, D_Loss: 0.334455, time: 4.30 min\n",
            "Epoch: 11, G_Loss: 5.229479, D_Loss: 0.163004, time: 4.50 min\n",
            "Epoch: 12, G_Loss: 2.750434, D_Loss: 0.218246, time: 4.71 min\n",
            "Epoch: 12, G_Loss: 2.953962, D_Loss: 0.133159, time: 4.91 min\n",
            "Epoch: 13, G_Loss: 2.893237, D_Loss: 0.179000, time: 5.12 min\n",
            "Epoch: 13, G_Loss: 3.798971, D_Loss: 0.286404, time: 5.32 min\n",
            "Epoch: 14, G_Loss: 3.300530, D_Loss: 0.395908, time: 5.52 min\n",
            "Epoch: 14, G_Loss: 2.597170, D_Loss: 0.287633, time: 5.73 min\n",
            "Epoch: 15, G_Loss: 2.630326, D_Loss: 0.248195, time: 5.93 min\n",
            "Epoch: 15, G_Loss: 0.631964, D_Loss: 0.503160, time: 6.13 min\n",
            "Epoch: 16, G_Loss: 2.721963, D_Loss: 0.166512, time: 6.34 min\n",
            "Epoch: 17, G_Loss: 2.514591, D_Loss: 0.238221, time: 6.54 min\n",
            "Epoch: 17, G_Loss: 2.017407, D_Loss: 0.216964, time: 6.74 min\n",
            "Epoch: 18, G_Loss: 2.358433, D_Loss: 0.299193, time: 6.95 min\n",
            "Epoch: 18, G_Loss: 1.124003, D_Loss: 0.289892, time: 7.15 min\n",
            "Epoch: 19, G_Loss: 1.411947, D_Loss: 0.324191, time: 7.35 min\n",
            "Epoch: 19, G_Loss: 1.925008, D_Loss: 0.194312, time: 7.57 min\n",
            "Epoch: 20, G_Loss: 1.725942, D_Loss: 0.231212, time: 7.77 min\n",
            "Epoch: 20, G_Loss: 4.469064, D_Loss: 0.467251, time: 7.97 min\n",
            "Epoch: 21, G_Loss: 2.320645, D_Loss: 0.222355, time: 8.17 min\n",
            "Epoch: 21, G_Loss: 1.484646, D_Loss: 0.281395, time: 8.37 min\n",
            "Epoch: 22, G_Loss: 1.724763, D_Loss: 0.292590, time: 8.57 min\n",
            "Epoch: 22, G_Loss: 2.213869, D_Loss: 0.244654, time: 8.78 min\n",
            "Epoch: 23, G_Loss: 1.718158, D_Loss: 0.235872, time: 8.98 min\n",
            "Epoch: 23, G_Loss: 1.827714, D_Loss: 0.334614, time: 9.18 min\n",
            "Epoch: 24, G_Loss: 2.143112, D_Loss: 0.186513, time: 9.38 min\n",
            "Epoch: 25, G_Loss: 2.089351, D_Loss: 0.218898, time: 9.58 min\n",
            "Epoch: 25, G_Loss: 1.874609, D_Loss: 0.295044, time: 9.78 min\n",
            "Epoch: 26, G_Loss: 2.763442, D_Loss: 0.376090, time: 9.98 min\n",
            "Epoch: 26, G_Loss: 2.852257, D_Loss: 0.247331, time: 10.19 min\n",
            "Epoch: 27, G_Loss: 2.425740, D_Loss: 0.283231, time: 10.39 min\n",
            "Epoch: 27, G_Loss: 1.574289, D_Loss: 0.252837, time: 10.59 min\n",
            "Epoch: 28, G_Loss: 2.118539, D_Loss: 0.271543, time: 10.79 min\n",
            "Epoch: 28, G_Loss: 2.824514, D_Loss: 0.279757, time: 11.00 min\n",
            "Epoch: 29, G_Loss: 3.196733, D_Loss: 0.278911, time: 11.20 min\n",
            "Epoch: 29, G_Loss: 1.108054, D_Loss: 0.291341, time: 11.40 min\n",
            "Epoch: 30, G_Loss: 1.706752, D_Loss: 0.360579, time: 11.61 min\n",
            "Epoch: 30, G_Loss: 3.050748, D_Loss: 0.306613, time: 11.81 min\n",
            "Epoch: 31, G_Loss: 1.802149, D_Loss: 0.320526, time: 12.01 min\n",
            "Epoch: 31, G_Loss: 1.758072, D_Loss: 0.314583, time: 12.21 min\n",
            "Epoch: 32, G_Loss: 2.938786, D_Loss: 0.230098, time: 12.41 min\n",
            "Epoch: 33, G_Loss: 3.049206, D_Loss: 0.147622, time: 12.61 min\n",
            "Epoch: 33, G_Loss: 2.007748, D_Loss: 0.239457, time: 12.81 min\n",
            "Epoch: 34, G_Loss: 1.619146, D_Loss: 0.296986, time: 13.01 min\n",
            "Epoch: 34, G_Loss: 2.998227, D_Loss: 0.332747, time: 13.21 min\n",
            "Epoch: 35, G_Loss: 2.767379, D_Loss: 0.258691, time: 13.41 min\n",
            "Epoch: 35, G_Loss: 1.684611, D_Loss: 0.220151, time: 13.61 min\n",
            "Epoch: 36, G_Loss: 2.429923, D_Loss: 0.250075, time: 13.81 min\n",
            "Epoch: 36, G_Loss: 0.793559, D_Loss: 0.428724, time: 14.12 min\n",
            "Epoch: 37, G_Loss: 2.028392, D_Loss: 0.246833, time: 14.32 min\n",
            "Epoch: 37, G_Loss: 3.058351, D_Loss: 0.290430, time: 14.52 min\n",
            "Epoch: 38, G_Loss: 2.756991, D_Loss: 0.112278, time: 14.72 min\n",
            "Epoch: 38, G_Loss: 2.151554, D_Loss: 0.219129, time: 14.92 min\n",
            "Epoch: 39, G_Loss: 2.261348, D_Loss: 0.178634, time: 15.14 min\n",
            "Epoch: 39, G_Loss: 2.139482, D_Loss: 0.322313, time: 15.34 min\n",
            "Epoch: 40, G_Loss: 2.056792, D_Loss: 0.230080, time: 15.54 min\n",
            "Epoch: 41, G_Loss: 3.385840, D_Loss: 0.231775, time: 15.74 min\n",
            "Epoch: 41, G_Loss: 2.734725, D_Loss: 0.270157, time: 15.94 min\n",
            "Epoch: 42, G_Loss: 2.309784, D_Loss: 0.296050, time: 16.14 min\n",
            "Epoch: 42, G_Loss: 2.645095, D_Loss: 0.292391, time: 16.34 min\n",
            "Epoch: 43, G_Loss: 1.646160, D_Loss: 0.313622, time: 16.53 min\n",
            "Epoch: 43, G_Loss: 3.263431, D_Loss: 0.270852, time: 16.74 min\n",
            "Epoch: 44, G_Loss: 2.022064, D_Loss: 0.210243, time: 16.94 min\n",
            "Epoch: 44, G_Loss: 1.948387, D_Loss: 0.207952, time: 17.14 min\n",
            "Epoch: 45, G_Loss: 2.833635, D_Loss: 0.475151, time: 17.34 min\n",
            "Epoch: 45, G_Loss: 2.699421, D_Loss: 0.211726, time: 17.55 min\n",
            "Epoch: 46, G_Loss: 1.247732, D_Loss: 0.504897, time: 17.75 min\n",
            "Epoch: 46, G_Loss: 1.599162, D_Loss: 0.285720, time: 17.95 min\n",
            "Epoch: 47, G_Loss: 0.969665, D_Loss: 0.497522, time: 18.16 min\n",
            "Epoch: 47, G_Loss: 1.651315, D_Loss: 0.237609, time: 18.35 min\n",
            "Epoch: 48, G_Loss: 1.621368, D_Loss: 0.342970, time: 18.55 min\n",
            "Epoch: 49, G_Loss: 2.337980, D_Loss: 0.250582, time: 18.75 min\n",
            "Epoch: 49, G_Loss: 2.897161, D_Loss: 0.194209, time: 18.95 min\n",
            "Epoch: 50, G_Loss: 2.930628, D_Loss: 0.309138, time: 19.18 min\n",
            "Epoch: 50, G_Loss: 1.672877, D_Loss: 0.242574, time: 19.41 min\n",
            "Epoch: 51, G_Loss: 2.454252, D_Loss: 0.396824, time: 19.61 min\n",
            "Epoch: 51, G_Loss: 1.715209, D_Loss: 0.287785, time: 19.81 min\n",
            "Epoch: 52, G_Loss: 2.918418, D_Loss: 0.259831, time: 20.01 min\n",
            "Epoch: 52, G_Loss: 3.971531, D_Loss: 0.235555, time: 20.21 min\n",
            "Epoch: 53, G_Loss: 3.492881, D_Loss: 0.341984, time: 20.40 min\n",
            "Epoch: 53, G_Loss: 2.018541, D_Loss: 0.246771, time: 20.60 min\n",
            "Epoch: 54, G_Loss: 2.523340, D_Loss: 0.268210, time: 20.81 min\n",
            "Epoch: 54, G_Loss: 3.017466, D_Loss: 0.310700, time: 21.01 min\n",
            "Epoch: 55, G_Loss: 2.510359, D_Loss: 0.439056, time: 21.21 min\n",
            "Epoch: 55, G_Loss: 2.095690, D_Loss: 0.273623, time: 21.41 min\n",
            "Epoch: 56, G_Loss: 2.554940, D_Loss: 0.247738, time: 21.61 min\n",
            "Epoch: 57, G_Loss: 1.972338, D_Loss: 0.296663, time: 21.81 min\n",
            "Epoch: 57, G_Loss: 2.055403, D_Loss: 0.178548, time: 22.01 min\n",
            "Epoch: 58, G_Loss: 2.470763, D_Loss: 0.182207, time: 22.21 min\n",
            "Epoch: 58, G_Loss: 1.470037, D_Loss: 0.333445, time: 22.41 min\n",
            "Epoch: 59, G_Loss: 1.832477, D_Loss: 0.283656, time: 22.61 min\n",
            "Epoch: 59, G_Loss: 2.673217, D_Loss: 0.197720, time: 22.80 min\n",
            "Epoch: 60, G_Loss: 2.255291, D_Loss: 0.395299, time: 23.00 min\n",
            "Epoch: 60, G_Loss: 2.141124, D_Loss: 0.236603, time: 23.20 min\n",
            "Epoch: 61, G_Loss: 2.749385, D_Loss: 0.253724, time: 23.40 min\n",
            "Epoch: 61, G_Loss: 1.652727, D_Loss: 0.392967, time: 23.60 min\n",
            "Epoch: 62, G_Loss: 2.439268, D_Loss: 0.163060, time: 23.79 min\n",
            "Epoch: 62, G_Loss: 2.291309, D_Loss: 0.218482, time: 23.99 min\n",
            "Epoch: 63, G_Loss: 1.516057, D_Loss: 0.295798, time: 24.20 min\n",
            "Epoch: 63, G_Loss: 2.691624, D_Loss: 0.159920, time: 24.40 min\n",
            "Epoch: 64, G_Loss: 1.446793, D_Loss: 0.261890, time: 24.59 min\n",
            "Epoch: 65, G_Loss: 1.764059, D_Loss: 0.276617, time: 24.79 min\n",
            "Epoch: 65, G_Loss: 1.664774, D_Loss: 0.167845, time: 24.99 min\n",
            "Epoch: 66, G_Loss: 2.333155, D_Loss: 0.303697, time: 25.19 min\n",
            "Epoch: 66, G_Loss: 2.160675, D_Loss: 0.221289, time: 25.38 min\n",
            "Epoch: 67, G_Loss: 1.969020, D_Loss: 0.215950, time: 25.58 min\n",
            "Epoch: 67, G_Loss: 2.313590, D_Loss: 0.206925, time: 25.78 min\n",
            "Epoch: 68, G_Loss: 2.644909, D_Loss: 0.186381, time: 25.98 min\n",
            "Epoch: 68, G_Loss: 2.234906, D_Loss: 0.232898, time: 26.18 min\n",
            "Epoch: 69, G_Loss: 2.845984, D_Loss: 0.277549, time: 26.38 min\n",
            "Epoch: 69, G_Loss: 2.983912, D_Loss: 0.271559, time: 26.58 min\n",
            "Epoch: 70, G_Loss: 3.102420, D_Loss: 0.458586, time: 26.78 min\n",
            "Epoch: 70, G_Loss: 2.298234, D_Loss: 0.304475, time: 26.98 min\n",
            "Epoch: 71, G_Loss: 2.970492, D_Loss: 0.319897, time: 27.18 min\n",
            "Epoch: 71, G_Loss: 2.696579, D_Loss: 0.287959, time: 27.38 min\n",
            "Epoch: 72, G_Loss: 2.252590, D_Loss: 0.331549, time: 27.59 min\n",
            "Epoch: 73, G_Loss: 1.973140, D_Loss: 0.198553, time: 27.79 min\n",
            "Epoch: 73, G_Loss: 1.206771, D_Loss: 0.327158, time: 27.98 min\n",
            "Epoch: 74, G_Loss: 2.125829, D_Loss: 0.174789, time: 28.18 min\n",
            "Epoch: 74, G_Loss: 2.298256, D_Loss: 0.180211, time: 28.38 min\n",
            "Epoch: 75, G_Loss: 2.454266, D_Loss: 0.162938, time: 28.58 min\n",
            "Epoch: 75, G_Loss: 0.982710, D_Loss: 0.392862, time: 28.78 min\n",
            "Epoch: 76, G_Loss: 1.879171, D_Loss: 0.183419, time: 28.98 min\n",
            "Epoch: 76, G_Loss: 2.001891, D_Loss: 0.381129, time: 29.18 min\n",
            "Epoch: 77, G_Loss: 2.836392, D_Loss: 0.371397, time: 29.37 min\n",
            "Epoch: 77, G_Loss: 1.833872, D_Loss: 0.233865, time: 29.57 min\n",
            "Epoch: 78, G_Loss: 2.155129, D_Loss: 0.264343, time: 29.77 min\n",
            "Epoch: 78, G_Loss: 2.858055, D_Loss: 0.298256, time: 29.97 min\n",
            "Epoch: 79, G_Loss: 1.680027, D_Loss: 0.237555, time: 30.16 min\n",
            "Epoch: 79, G_Loss: 2.254650, D_Loss: 0.181222, time: 30.36 min\n",
            "Epoch: 80, G_Loss: 2.151966, D_Loss: 0.299810, time: 30.56 min\n",
            "Epoch: 81, G_Loss: 2.223362, D_Loss: 0.290882, time: 30.75 min\n",
            "Epoch: 81, G_Loss: 2.323700, D_Loss: 0.255074, time: 30.96 min\n",
            "Epoch: 82, G_Loss: 3.000427, D_Loss: 0.194397, time: 31.16 min\n",
            "Epoch: 82, G_Loss: 1.701050, D_Loss: 0.340724, time: 31.35 min\n",
            "Epoch: 83, G_Loss: 1.622614, D_Loss: 0.246016, time: 31.55 min\n",
            "Epoch: 83, G_Loss: 2.841330, D_Loss: 0.479457, time: 31.75 min\n",
            "Epoch: 84, G_Loss: 2.675519, D_Loss: 0.172136, time: 31.94 min\n",
            "Epoch: 84, G_Loss: 2.273300, D_Loss: 0.375982, time: 32.14 min\n",
            "Epoch: 85, G_Loss: 2.176702, D_Loss: 0.185956, time: 32.34 min\n",
            "Epoch: 85, G_Loss: 2.323308, D_Loss: 0.251878, time: 32.53 min\n",
            "Epoch: 86, G_Loss: 2.347111, D_Loss: 0.140761, time: 32.73 min\n",
            "Epoch: 86, G_Loss: 1.983637, D_Loss: 0.330165, time: 32.92 min\n",
            "Epoch: 87, G_Loss: 2.324510, D_Loss: 0.233434, time: 33.12 min\n",
            "Epoch: 87, G_Loss: 1.887789, D_Loss: 0.292357, time: 33.31 min\n",
            "Epoch: 88, G_Loss: 1.629663, D_Loss: 0.225523, time: 33.50 min\n",
            "Epoch: 89, G_Loss: 2.039493, D_Loss: 0.299696, time: 33.70 min\n",
            "Epoch: 89, G_Loss: 1.912338, D_Loss: 0.237884, time: 33.90 min\n",
            "Epoch: 90, G_Loss: 2.916144, D_Loss: 0.093632, time: 34.10 min\n",
            "Epoch: 90, G_Loss: 2.713273, D_Loss: 0.251407, time: 34.31 min\n",
            "Epoch: 91, G_Loss: 3.150628, D_Loss: 0.283827, time: 34.51 min\n",
            "Epoch: 91, G_Loss: 2.468355, D_Loss: 0.171792, time: 34.71 min\n",
            "Epoch: 92, G_Loss: 3.114686, D_Loss: 0.359196, time: 34.91 min\n",
            "Epoch: 92, G_Loss: 1.785791, D_Loss: 0.194225, time: 35.11 min\n",
            "Epoch: 93, G_Loss: 2.821237, D_Loss: 0.379450, time: 35.31 min\n",
            "Epoch: 93, G_Loss: 2.048801, D_Loss: 0.199581, time: 35.51 min\n",
            "Epoch: 94, G_Loss: 2.286527, D_Loss: 0.246078, time: 35.71 min\n",
            "Epoch: 94, G_Loss: 1.923312, D_Loss: 0.278751, time: 35.90 min\n",
            "Epoch: 95, G_Loss: 2.129843, D_Loss: 0.242694, time: 36.10 min\n",
            "Epoch: 95, G_Loss: 2.816826, D_Loss: 0.340115, time: 36.30 min\n",
            "Epoch: 96, G_Loss: 2.325650, D_Loss: 0.272527, time: 36.49 min\n",
            "Epoch: 97, G_Loss: 2.481332, D_Loss: 0.253637, time: 36.69 min\n",
            "Epoch: 97, G_Loss: 2.154530, D_Loss: 0.290458, time: 36.89 min\n",
            "Epoch: 98, G_Loss: 2.867249, D_Loss: 0.256929, time: 37.09 min\n",
            "Epoch: 98, G_Loss: 1.984850, D_Loss: 0.192136, time: 37.28 min\n",
            "Epoch: 99, G_Loss: 2.953425, D_Loss: 0.242092, time: 37.48 min\n",
            "Epoch: 99, G_Loss: 2.965511, D_Loss: 0.239807, time: 37.69 min\n"
          ]
        }
      ]
    },
    {
      "cell_type": "code",
      "metadata": {
        "colab": {
          "base_uri": "https://localhost:8080/",
          "height": 350
        },
        "id": "06z0hdr1y5DZ",
        "outputId": "0227429a-bb2e-40d0-9bd5-f33b3ff32d40"
      },
      "source": [
        "# plot loss history\n",
        "plt.figure(figsize=(10,5))\n",
        "plt.title('Loss Progress')\n",
        "plt.plot(loss_history['gen'], label='Gen. Loss')\n",
        "plt.plot(loss_history['dis'], label='Dis. Loss')\n",
        "plt.xlabel('batch count')\n",
        "plt.ylabel('Loss')\n",
        "plt.legend()\n",
        "plt.show()"
      ],
      "execution_count": 14,
      "outputs": [
        {
          "output_type": "display_data",
          "data": {
            "text/plain": [
              "<Figure size 720x360 with 1 Axes>"
            ],
            "image/png": "[encoded data removed]"
          },
          "metadata": {
            "needs_background": "light"
          }
        }
      ]
    },
    {
      "cell_type": "code",
      "metadata": {
        "id": "81QXiRat9HSW"
      },
      "source": [
        "# 가중치 저장\n",
        "path2models = './models/'\n",
        "os.makedirs(path2models, exist_ok=True)\n",
        "path2weights_gen = os.path.join(path2models, 'weights_gen.pt')\n",
        "path2weights_dis = os.path.join(path2models, 'weights_dis.pt')\n",
        "\n",
        "torch.save(model_gen.state_dict(), path2weights_gen)\n",
        "torch.save(model_dis.state_dict(), path2weights_dis)"
      ],
      "execution_count": 15,
      "outputs": []
    },
    {
      "cell_type": "markdown",
      "metadata": {
        "id": "Hjbu0upa9Cud"
      },
      "source": [
        "# 4. Generator이 생성한 이미지 확인"
      ]
    },
    {
      "cell_type": "code",
      "metadata": {
        "colab": {
          "base_uri": "https://localhost:8080/"
        },
        "id": "YQ7LcgQt8-vA",
        "outputId": "ccc1c3b6-4b0b-4814-a49a-f33b10eaa4da"
      },
      "source": [
        "# 가중치 불러오기\n",
        "weights = torch.load(path2weights_gen)\n",
        "model_gen.load_state_dict(weights)\n",
        "\n",
        "# evaluation mode\n",
        "model_gen.eval()\n",
        "\n",
        "# 가짜 이미지 생성\n",
        "with torch.no_grad():\n",
        "    fixed_noise = torch.randn(16, 100, device=device)\n",
        "    img_fake = model_gen(fixed_noise).detach().cpu()\n",
        "print(img_fake.shape)"
      ],
      "execution_count": 16,
      "outputs": [
        {
          "output_type": "stream",
          "name": "stdout",
          "text": [
            "torch.Size([16, 1, 28, 28])\n"
          ]
        }
      ]
    },
    {
      "cell_type": "code",
      "metadata": {
        "colab": {
          "base_uri": "https://localhost:8080/",
          "height": 575
        },
        "id": "UQ9aR5Ku91ct",
        "outputId": "0d31ff12-7e1b-4bf5-fac6-7e572c7f3f85"
      },
      "source": [
        "# 가짜 이미지 시각화\n",
        "plt.figure(figsize=(10,10))\n",
        "for ii in range(16):\n",
        "    plt.subplot(4,4,ii+1)\n",
        "    plt.imshow(to_pil_image(0.5*img_fake[ii]+0.5),cmap='gray')\n",
        "    plt.axis('off')"
      ],
      "execution_count": 17,
      "outputs": [
        {
          "output_type": "display_data",
          "data": {
            "text/plain": [
              "<Figure size 720x720 with 16 Axes>"
            ],
            "image/png": "[encoded data removed]"
          },
          "metadata": {
            "needs_background": "light"
          }
        }
      ]
    },
    {
      "cell_type": "code",
      "metadata": {
        "id": "LeRy_L_a-QEr"
      },
      "source": [],
      "execution_count": null,
      "outputs": []
    }
  ]
}