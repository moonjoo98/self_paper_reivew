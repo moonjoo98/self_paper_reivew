{
  "nbformat": 4,
  "nbformat_minor": 0,
  "metadata": {
    "colab": {
      "private_outputs": true,
      "provenance": []
    },
    "kernelspec": {
      "name": "python3",
      "display_name": "Python 3"
    },
    "language_info": {
      "name": "python"
    }
  },
  "cells": [
    {
      "cell_type": "code",
      "source": [
        "!pip install -q torch torchvision --index-url https://download.pytorch.org/whl/cu118\n",
        "!pip install -q 'git+https://github.com/facebookresearch/detectron2.git'"
      ],
      "metadata": {
        "id": "GWbna2cdN9VW"
      },
      "execution_count": null,
      "outputs": []
    },
    {
      "cell_type": "code",
      "execution_count": null,
      "metadata": {
        "id": "jMUOiqruNveD"
      },
      "outputs": [],
      "source": [
        "!pip install layoutparser"
      ]
    },
    {
      "cell_type": "code",
      "source": [
        "from google.colab import drive\n",
        "\n",
        "drive.mount('/content/drive')\n",
        "\n",
        "%cd drive/MyDrive/DLA"
      ],
      "metadata": {
        "id": "Bfgr9zt5PT9T"
      },
      "execution_count": null,
      "outputs": []
    },
    {
      "cell_type": "code",
      "source": [
        "import cv2\n",
        "import layoutparser as lp\n",
        "\n",
        "model = lp.Detectron2LayoutModel('lp://TableBank/faster_rcnn_R_101_FPN_3x/config',\n",
        "                                 './outputs/model_final_table.pth',\n",
        "                                 extra_config=[\"MODEL.ROI_HEADS.SCORE_THRESH_TEST\", 0.3],\n",
        "                                 label_map={0: \"Table\"})\n",
        "\n",
        "\n",
        "image = cv2.imread('./data/test_image.jpg')\n",
        "\n",
        "color_map = {\n",
        "    'Table':  'yellow',\n",
        "}\n",
        "\n",
        "layout_predicted = model.detect(image)\n",
        "lp.draw_box(image,\n",
        "              [b.set(id=f'{b.type}/{b.score:.2f}') for b in layout_predicted],\n",
        "              color_map=color_map,\n",
        "              show_element_id=True, id_font_size=20,\n",
        "              id_text_background_color='black',\n",
        "              id_text_color='white')"
      ],
      "metadata": {
        "id": "izXHVxAiN1TI"
      },
      "execution_count": null,
      "outputs": []
    },
    {
      "cell_type": "code",
      "source": [
        "from google.colab.patches import cv2_imshow\n",
        "image = cv2.imread('./data/test_image.jpg')\n",
        "\n",
        "margin = 20  # This is the margin size you want to add\n",
        "for table in layout_predicted:\n",
        "    # Adjust the coordinates to add a margin\n",
        "    x1, y1, x2, y2 = table.coordinates\n",
        "    table_crop = image[max(int(y1)-margin, 0):min(int(y2)+margin, image.shape[0]),\n",
        "                       max(int(x1)-(margin+20), 0):min(int(x2)+(margin+20), image.shape[1])]\n",
        "\n",
        "    gray = cv2.cvtColor(table_crop, cv2.COLOR_BGR2GRAY)\n",
        "\n",
        "\n",
        "    # 가우시안 블러 적용 (노이즈 제거)\n",
        "    blurred = cv2.GaussianBlur(gray, (5, 5), 0)\n",
        "\n",
        "\n",
        "\n",
        "    # 어댑티브 이진화 적용\n",
        "    adaptive_thresh = cv2.adaptiveThreshold(blurred, 255, cv2.ADAPTIVE_THRESH_MEAN_C,\n",
        "                                            cv2.THRESH_BINARY_INV, 11, 4)\n",
        "\n",
        "\n",
        "    # Canny 에지 검출\n",
        "    edges = cv2.Canny(adaptive_thresh, threshold1=20, threshold2=150)\n",
        "\n",
        "    # 에지를 사용하여 윤곽 찾기\n",
        "    contours, _ = cv2.findContours(edges, cv2.RETR_CCOMP, cv2.CHAIN_APPROX_SIMPLE)\n",
        "\n",
        "    # 윤곽을 이미지에 그리기\n",
        "    for cnt in contours:\n",
        "        # 윤곽을 둘러싼 최소 사각형을 계산\n",
        "        x, y, w, h = cv2.boundingRect(cnt)\n",
        "        # 적절한 크기의 윤곽을 선택\n",
        "        if w > 0 and h > 12:  # 셀 크기에 맞게 조정\n",
        "            cv2.rectangle(table_crop, (x, y), (x + w, y + h), (0, 255, 0), 2)\n",
        "\n",
        "    cv2_imshow(table_crop)\n",
        "\n"
      ],
      "metadata": {
        "id": "DQ-PNHtYQ4V4"
      },
      "execution_count": null,
      "outputs": []
    }
  ]
}